{
 "cells": [
  {
   "cell_type": "markdown",
   "metadata": {},
   "source": [
    "### 4 Parts to an Algorithm\n",
    "* Sequential Operations\n",
    "* Actions based on the state of a data structure\n",
    "* Iteration, repeating an action a number of times\n",
    "* Recursion, calling itself on a subset of inputs\n",
    "\n",
    "### 3 Approachs to Algo Design\n",
    "* Divide and conquer\n",
    "* Greedy algorithms\n",
    "* Dynamic programming"
   ]
  },
  {
   "cell_type": "code",
   "execution_count": 12,
   "metadata": {},
   "outputs": [],
   "source": [
    " def factorial(n):\n",
    "    #test for a base case\n",
    "    if n==0:\n",
    "        return 1\n",
    "    # make a calculation and a recursive call\n",
    "    f = n * factorial(n-1)\n",
    "\n",
    "    return f"
   ]
  },
  {
   "cell_type": "code",
   "execution_count": 11,
   "metadata": {},
   "outputs": [
    {
     "data": {
      "text/plain": [
       "3628800"
      ]
     },
     "execution_count": 11,
     "metadata": {},
     "output_type": "execute_result"
    }
   ],
   "source": [
    "factorial(10)"
   ]
  },
  {
   "cell_type": "code",
   "execution_count": null,
   "metadata": {},
   "outputs": [],
   "source": []
  }
 ],
 "metadata": {
  "kernelspec": {
   "display_name": "Python 3",
   "language": "python",
   "name": "python3"
  },
  "language_info": {
   "codemirror_mode": {
    "name": "ipython",
    "version": 3
   },
   "file_extension": ".py",
   "mimetype": "text/x-python",
   "name": "python",
   "nbconvert_exporter": "python",
   "pygments_lexer": "ipython3",
   "version": "3.7.6"
  }
 },
 "nbformat": 4,
 "nbformat_minor": 4
}
